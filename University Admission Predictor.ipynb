using System;

public class Program{
    public static void Main(string[] args) {
        Console.WriteLine("Enter the size of jumbled character array");
        int n = Convert.ToInt32(Console.ReadLine());
        if (!(n >= 5 && n <= 9)) {
            Console.WriteLine("Invalid Array Size");
            return;
        }
        Console.WriteLine("Enter " + n + " characters");
        char[] a = new char[n];
        for (int i = 0; i < n; i++)
            a[i] = Console.ReadLine()[0];
        Console.WriteLine("Enter the secret code");
        string code = Console.ReadLine();
        char[] ch=code.ToCharArray();
        foreach(char c in ch)
            if (Char.IsLetter(c)) {
                Console.WriteLine("Invalid secret code");
                return;
            }
        string s= "";
        foreach(char c in ch)
            s =s+ a[(int)Char.GetNumericValue(c)];
        Console.WriteLine(s);
    }
}